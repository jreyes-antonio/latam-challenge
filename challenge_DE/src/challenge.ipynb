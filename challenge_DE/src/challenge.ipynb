{
  "nbformat": 4,
  "nbformat_minor": 0,
  "metadata": {
    "colab": {
      "provenance": []
    },
    "kernelspec": {
      "name": "python3",
      "display_name": "Python 3"
    },
    "language_info": {
      "name": "python"
    }
  },
  "cells": [
    {
      "cell_type": "markdown",
      "source": [
        "# **Data Engineer Challenge LATAM**"
      ],
      "metadata": {
        "id": "UwvhYYhvH1cX"
      }
    },
    {
      "cell_type": "markdown",
      "source": [
        "En este Notebook encontraremos los resultados para el desafio Latam"
      ],
      "metadata": {
        "id": "dZza3Go5INt7"
      }
    },
    {
      "cell_type": "markdown",
      "source": [
        "Como primera parte comentaremos que se deben instalar todas las librerías agregadas en el archivo requirements.txt, luego de esto son llamadas para se utilizadas."
      ],
      "metadata": {
        "id": "FRLKF1UHpQ4U"
      }
    },
    {
      "cell_type": "code",
      "source": [
        "!pip install -r requirements.txt"
      ],
      "metadata": {
        "colab": {
          "base_uri": "https://localhost:8080/"
        },
        "id": "WG1PhF3nbdGN",
        "outputId": "babaf79c-80fb-43b5-9511-676768c712da"
      },
      "execution_count": 1,
      "outputs": [
        {
          "output_type": "stream",
          "name": "stdout",
          "text": [
            "Requirement already satisfied: memory_profiler==0.61.0 in /usr/local/lib/python3.10/dist-packages (from -r requirements.txt (line 1)) (0.61.0)\n",
            "Requirement already satisfied: emoji==2.10.1 in /usr/local/lib/python3.10/dist-packages (from -r requirements.txt (line 2)) (2.10.1)\n",
            "Requirement already satisfied: psutil in /usr/local/lib/python3.10/dist-packages (from memory_profiler==0.61.0->-r requirements.txt (line 1)) (5.9.5)\n"
          ]
        }
      ]
    },
    {
      "cell_type": "code",
      "source": [
        "%load_ext memory_profiler"
      ],
      "metadata": {
        "id": "g5wnGuKVdDHR"
      },
      "execution_count": 2,
      "outputs": []
    },
    {
      "cell_type": "code",
      "execution_count": 3,
      "metadata": {
        "id": "qlAY46Db4G5E"
      },
      "outputs": [],
      "source": [
        "from time import time\n",
        "from zipfile import ZipFile\n",
        "import os\n",
        "from memory_profiler import profile"
      ]
    },
    {
      "cell_type": "markdown",
      "source": [
        "Luego de importar las librerías contiuamos con la lectura del archivo necesario para procesar los datos."
      ],
      "metadata": {
        "id": "AJYUc_8Ipyci"
      }
    },
    {
      "cell_type": "code",
      "source": [
        "file_path = \"farmers-protest-tweets-2021-2-4.json\"\n",
        "\n",
        "if not os.path.exists(file_path):\n",
        "    with ZipFile(\"tweets.json.zip\", 'r') as zObject:\n",
        "        zObject.extractall('.')"
      ],
      "metadata": {
        "id": "LFSqNSA9YB4c"
      },
      "execution_count": 4,
      "outputs": []
    },
    {
      "cell_type": "code",
      "source": [
        "from q1_memory import q1_memory"
      ],
      "metadata": {
        "id": "nWdj-BKFYJ9X"
      },
      "execution_count": 5,
      "outputs": []
    },
    {
      "cell_type": "markdown",
      "source": [
        "Ahora inicializamos el tiempo de ejecución y utilizamos la función desarrollada para el primer desafío, enfocado en un tiempo de ejecución menor pero dejando de lado la memoria que se pueda llegar a utilizar, por otro lado la siguiente función se trato de ejecutar con un menor uso de memoría sin considerar el tiempo que podría tomarle.\n",
        "Considerar que la ejecución se realiza dos veces solamente para medir la memoría utilizada mediante %memit.\n",
        "\n",
        "1. Las top 10 fechas donde hay más tweets. Mencionar el usuario (username) que más publicaciones tiene por cada uno de esos días.\n",
        "\n",
        "Para realizar esto el primer ejercicio llamado q1_memory, considera la lectura de manera de optimizar el uso de memoria, se intentará procesar el archivo línea por línea sin almacenar todos los datos en memoria al mismo tiempo. Esto puede hacer que la ejecución sea más lenta.\n",
        "\n",
        "Para la función que llamamos q1_time, se considera mejor el tiempo de ejecución intentando reducir las iteraciones al mínimo y utilizando estructuras de datos eficientes."
      ],
      "metadata": {
        "id": "-mbLv2hFqXBP"
      }
    },
    {
      "cell_type": "code",
      "source": [
        "initial_time = time()\n",
        "result = q1_memory(file_path=file_path)\n",
        "print(f\"---- TIEMPO TOTAL EJECUCION: {time() - initial_time} ----\")\n",
        "%memit -r 1 q1_memory(file_path=file_path)\n",
        "print(\"---- RESULTADO ----\")\n",
        "print(result)"
      ],
      "metadata": {
        "colab": {
          "base_uri": "https://localhost:8080/"
        },
        "id": "Bdzz6Mr2YSLn",
        "outputId": "a44815f1-d1bd-4ebe-cbbc-67fdf4fbbedb"
      },
      "execution_count": 6,
      "outputs": [
        {
          "output_type": "stream",
          "name": "stdout",
          "text": [
            "-- TIEMPO DE EJECUCION: 90.80253219604492 --\n",
            "peak memory: 96.26 MiB, increment: 0.79 MiB\n",
            "RESULTADO: \n",
            "[(datetime.date(2021, 2, 12), 'RanbirS00614606'), (datetime.date(2021, 2, 13), 'MaanDee08215437'), (datetime.date(2021, 2, 17), 'RaaJVinderkaur'), (datetime.date(2021, 2, 16), 'jot__b'), (datetime.date(2021, 2, 14), 'rebelpacifist'), (datetime.date(2021, 2, 18), 'neetuanjle_nitu'), (datetime.date(2021, 2, 15), 'jot__b'), (datetime.date(2021, 2, 20), 'MangalJ23056160'), (datetime.date(2021, 2, 23), 'Surrypuria'), (datetime.date(2021, 2, 19), 'Preetm91')]\n"
          ]
        }
      ]
    },
    {
      "cell_type": "code",
      "source": [
        "from q1_time import q1_time"
      ],
      "metadata": {
        "id": "5TMVFBtIYirQ"
      },
      "execution_count": 7,
      "outputs": []
    },
    {
      "cell_type": "code",
      "source": [
        "initial_time = time()\n",
        "result = q1_time(file_path=file_path)\n",
        "print(f\"---- TIEMPO TOTAL EJECUCION: {time() - initial_time} ----\")\n",
        "%memit -r 1 q1_time(file_path=file_path)\n",
        "print(\"RESULTADO: \")\n",
        "print(result)"
      ],
      "metadata": {
        "colab": {
          "base_uri": "https://localhost:8080/"
        },
        "id": "tUIgasFonBtC",
        "outputId": "29c84331-0fe1-4514-f4f0-e7a7fbf86f35"
      },
      "execution_count": 8,
      "outputs": [
        {
          "output_type": "stream",
          "name": "stdout",
          "text": [
            "-- TIEMPO DE EJECUCION: 11.823351860046387 --\n",
            "peak memory: 109.09 MiB, increment: 5.33 MiB\n",
            "RESULTADO: \n",
            "[(datetime.date(2021, 2, 12), 'RanbirS00614606'), (datetime.date(2021, 2, 13), 'MaanDee08215437'), (datetime.date(2021, 2, 17), 'RaaJVinderkaur'), (datetime.date(2021, 2, 16), 'jot__b'), (datetime.date(2021, 2, 14), 'rebelpacifist'), (datetime.date(2021, 2, 18), 'neetuanjle_nitu'), (datetime.date(2021, 2, 15), 'jot__b'), (datetime.date(2021, 2, 20), 'MangalJ23056160'), (datetime.date(2021, 2, 23), 'Surrypuria'), (datetime.date(2021, 2, 19), 'Preetm91')]\n"
          ]
        }
      ]
    },
    {
      "cell_type": "code",
      "source": [
        "pip install emoji\n"
      ],
      "metadata": {
        "colab": {
          "base_uri": "https://localhost:8080/"
        },
        "id": "4i20Tz0y0TcE",
        "outputId": "bd893354-9971-4208-aa88-0608eb01bbf3"
      },
      "execution_count": 9,
      "outputs": [
        {
          "output_type": "stream",
          "name": "stdout",
          "text": [
            "Requirement already satisfied: emoji in /usr/local/lib/python3.10/dist-packages (2.10.1)\n"
          ]
        }
      ]
    },
    {
      "cell_type": "markdown",
      "source": [
        "Ahora continuamos con el desafio n° 2 el que al igual que el anterior conlleva una ejecución de 2 veces solamente para monitoreo de memoría y tiempo, esto no es necesario en la ejecución oficial del código.\n",
        "\n",
        "2. Los top 10 emojis más usados con su respectivo conteo.\n",
        "\n",
        "La función para ejecutar el tiempo optimizado es q2_time, esta función recorrerá todos los tweets una vez, extrayendo y contando los emojis encontrados, esto lo realizará mediante la librería Emoji, que justamente tiene una función para contar emojis incorporada.\n",
        "\n",
        "Por otro lado la función q2_memory, Este método es prácticamente el mismo que el optimizado para tiempo, porque el procesamiento y la identificación de emojis no requiere cargar grandes estructuras de datos en memoria; el principal consumo de memoria vendría de cargar el archivo de tweets completo en memoria, lo cual evitamos leyendo línea por línea."
      ],
      "metadata": {
        "id": "vBaDYMn5tKrW"
      }
    },
    {
      "cell_type": "code",
      "source": [
        "from q2_time import q2_time"
      ],
      "metadata": {
        "id": "nqSH0tWH0mIq"
      },
      "execution_count": 10,
      "outputs": []
    },
    {
      "cell_type": "code",
      "source": [
        "initial_time = time()\n",
        "result = q2_time(file_path=file_path)\n",
        "print(f\"---- TIEMPO TOTAL EJECUCION: {time() - initial_time} ----\")\n",
        "%memit -r 1 q2_time(file_path=file_path)\n",
        "print(\"RESULTADO: \")\n",
        "print(result)"
      ],
      "metadata": {
        "colab": {
          "base_uri": "https://localhost:8080/"
        },
        "id": "1flZUPmt0X23",
        "outputId": "bd42dbcc-9e96-4633-904d-11e1550733c5"
      },
      "execution_count": 11,
      "outputs": [
        {
          "output_type": "stream",
          "name": "stdout",
          "text": [
            "-- TIEMPO DE EJECUCION: 28.784366846084595 --\n",
            "peak memory: 113.09 MiB, increment: 0.69 MiB\n",
            "RESULTADO: \n",
            "[('🙏', 5049), ('😂', 3072), ('🚜', 2972), ('🌾', 2182), ('🇮🇳', 2086), ('🤣', 1668), ('✊', 1651), ('❤️', 1382), ('🙏🏻', 1317), ('💚', 1040)]\n"
          ]
        }
      ]
    },
    {
      "cell_type": "code",
      "source": [
        "from q2_memory import q2_memory"
      ],
      "metadata": {
        "id": "U-MS40qq93iR"
      },
      "execution_count": 12,
      "outputs": []
    },
    {
      "cell_type": "code",
      "source": [
        "initial_time = time()\n",
        "result = q2_memory(file_path=file_path)\n",
        "print(f\"---- TIEMPO TOTAL EJECUCION: {time() - initial_time} ----\")\n",
        "%memit -r 1 q2_memory(file_path=file_path)\n",
        "print(\"RESULTADO: \")\n",
        "print(result)"
      ],
      "metadata": {
        "colab": {
          "base_uri": "https://localhost:8080/"
        },
        "id": "9tqEt7EO91qS",
        "outputId": "31132fc8-441a-4eca-fbfb-89313e916a8b"
      },
      "execution_count": 13,
      "outputs": [
        {
          "output_type": "stream",
          "name": "stdout",
          "text": [
            "-- TIEMPO DE EJECUCION: 27.836110830307007 --\n",
            "peak memory: 120.24 MiB, increment: 0.09 MiB\n",
            "RESULTADO: \n",
            "[('🙏', 5049), ('😂', 3072), ('🚜', 2972), ('🌾', 2182), ('🇮🇳', 2086), ('🤣', 1668), ('✊', 1651), ('❤️', 1382), ('🙏🏻', 1317), ('💚', 1040)]\n"
          ]
        }
      ]
    },
    {
      "cell_type": "markdown",
      "source": [
        "Finalmente el último ejecicio a realizar es bastante similar al primero, no es necesario importar librerías externas a python.\n",
        "\n",
        "3. El top 10 histórico de usuarios (username) más influyentes en función del conteo de las menciones (@) que registra cada uno de ellos.\n",
        "\n",
        "El caso para q3_time, se extrae las listas de usuarios mencionados de cada tweet. Aquí, se toma precaución para manejar casos donde 'mentionedUsers' podría no estar presente o ser None.\n",
        "\n",
        "Para el caso de q3_memory, para hacer el código más eficiente en términos de uso de memoria, especialmente para manejar archivos grandes, podemos ajustar la forma en que leemos y procesamos el archivo. En lugar de cargar todas las líneas del archivo en memoria de una vez con f.readlines(), podemos iterar sobre el archivo línea por línea. Además, podemos ajustar el procesamiento de los datos para reducir el uso de memoria intermedia."
      ],
      "metadata": {
        "id": "QowjwmhjuTi-"
      }
    },
    {
      "cell_type": "code",
      "source": [
        "from q3_time import q3_time"
      ],
      "metadata": {
        "id": "0RqJPTXNEtyf"
      },
      "execution_count": 14,
      "outputs": []
    },
    {
      "cell_type": "code",
      "source": [
        "initial_time = time()\n",
        "result = q3_time(file_path=file_path)\n",
        "print(f\"---- TIEMPO TOTAL EJECUCION: {time() - initial_time} ----\")\n",
        "%memit -r 1 q3_time(file_path=file_path)\n",
        "print(\"RESULTADO: \")\n",
        "print(result)"
      ],
      "metadata": {
        "colab": {
          "base_uri": "https://localhost:8080/"
        },
        "id": "Xs-vYCmpEnHY",
        "outputId": "de346d36-6c97-4604-bae2-9e31ab6427ca"
      },
      "execution_count": 15,
      "outputs": [
        {
          "output_type": "stream",
          "name": "stdout",
          "text": [
            "-- TIEMPO DE EJECUCION: 5.448221683502197 --\n",
            "peak memory: 128.68 MiB, increment: 1.88 MiB\n",
            "RESULTADO: \n",
            "[('narendramodi', 2265), ('Kisanektamorcha', 1840), ('RakeshTikaitBKU', 1644), ('PMOIndia', 1427), ('RahulGandhi', 1146), ('GretaThunberg', 1048), ('RaviSinghKA', 1019), ('rihanna', 986), ('UNHumanRights', 962), ('meenaharris', 926)]\n"
          ]
        }
      ]
    },
    {
      "cell_type": "code",
      "source": [
        "from q3_memory import q3_memory"
      ],
      "metadata": {
        "id": "yQT3S7PXFr9o"
      },
      "execution_count": 16,
      "outputs": []
    },
    {
      "cell_type": "code",
      "source": [
        "initial_time = time()\n",
        "result = q3_memory(file_path=file_path)\n",
        "print(f\"---- TIEMPO TOTAL EJECUCION: {time() - initial_time} ----\")\n",
        "%memit -r 1 q3_memory(file_path=file_path)\n",
        "print(\"RESULTADO: \")\n",
        "print(result)"
      ],
      "metadata": {
        "colab": {
          "base_uri": "https://localhost:8080/"
        },
        "id": "3USwhXlBFvcM",
        "outputId": "56810b2a-3ce0-48c7-cc98-68ea7e831e8e"
      },
      "execution_count": 17,
      "outputs": [
        {
          "output_type": "stream",
          "name": "stdout",
          "text": [
            "-- TIEMPO DE EJECUCION: 5.7294511795043945 --\n",
            "peak memory: 128.71 MiB, increment: 0.00 MiB\n",
            "RESULTADO: \n",
            "[('narendramodi', 2265), ('Kisanektamorcha', 1840), ('RakeshTikaitBKU', 1644), ('PMOIndia', 1427), ('RahulGandhi', 1146), ('GretaThunberg', 1048), ('RaviSinghKA', 1019), ('rihanna', 986), ('UNHumanRights', 962), ('meenaharris', 926)]\n"
          ]
        }
      ]
    }
  ]
}